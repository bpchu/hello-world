{
 "cells": [
  {
   "cell_type": "code",
   "execution_count": 2,
   "metadata": {},
   "outputs": [],
   "source": [
    "import numpy as np\n",
    "import scipy as sp\n",
    "from scipy import stats\n",
    "import pandas as pd\n",
    "import os\n",
    "import matplotlib.pyplot as plt\n",
    "plt.style.use('seaborn-whitegrid')"
   ]
  },
  {
   "cell_type": "code",
   "execution_count": 3,
   "metadata": {},
   "outputs": [
    {
     "data": {
      "text/plain": [
       "'/home/jovyan'"
      ]
     },
     "execution_count": 3,
     "metadata": {},
     "output_type": "execute_result"
    }
   ],
   "source": [
    "os.getcwd()"
   ]
  },
  {
   "cell_type": "code",
   "execution_count": 4,
   "metadata": {},
   "outputs": [],
   "source": [
    "MyFirstData = pd.read_csv('MyFirstData.csv')"
   ]
  },
  {
   "cell_type": "code",
   "execution_count": 5,
   "metadata": {},
   "outputs": [
    {
     "name": "stdout",
     "output_type": "stream",
     "text": [
      "<class 'pandas.core.frame.DataFrame'>\n",
      "RangeIndex: 1200 entries, 0 to 1199\n",
      "Data columns (total 8 columns):\n",
      " #   Column     Non-Null Count  Dtype  \n",
      "---  ------     --------------  -----  \n",
      " 0   villid     1200 non-null   int64  \n",
      " 1   hogid      1200 non-null   object \n",
      " 2   D_HH       1183 non-null   float64\n",
      " 3   IncomeLab  176 non-null    float64\n",
      " 4   famsize    1200 non-null   int64  \n",
      " 5   agehead    1199 non-null   float64\n",
      " 6   sexhead    1200 non-null   object \n",
      " 7   pov_HH     1199 non-null   object \n",
      "dtypes: float64(3), int64(2), object(3)\n",
      "memory usage: 75.1+ KB\n"
     ]
    }
   ],
   "source": [
    "MyFirstData.info()"
   ]
  },
  {
   "cell_type": "code",
   "execution_count": 6,
   "metadata": {},
   "outputs": [
    {
     "data": {
      "text/html": [
       "<div>\n",
       "<style scoped>\n",
       "    .dataframe tbody tr th:only-of-type {\n",
       "        vertical-align: middle;\n",
       "    }\n",
       "\n",
       "    .dataframe tbody tr th {\n",
       "        vertical-align: top;\n",
       "    }\n",
       "\n",
       "    .dataframe thead th {\n",
       "        text-align: right;\n",
       "    }\n",
       "</style>\n",
       "<table border=\"1\" class=\"dataframe\">\n",
       "  <thead>\n",
       "    <tr style=\"text-align: right;\">\n",
       "      <th></th>\n",
       "      <th>villid</th>\n",
       "      <th>hogid</th>\n",
       "      <th>D_HH</th>\n",
       "      <th>IncomeLab</th>\n",
       "      <th>famsize</th>\n",
       "      <th>agehead</th>\n",
       "      <th>sexhead</th>\n",
       "      <th>pov_HH</th>\n",
       "    </tr>\n",
       "  </thead>\n",
       "  <tbody>\n",
       "    <tr>\n",
       "      <th>count</th>\n",
       "      <td>1.200000e+03</td>\n",
       "      <td>1200</td>\n",
       "      <td>1183.000000</td>\n",
       "      <td>176.000000</td>\n",
       "      <td>1200.000000</td>\n",
       "      <td>1199.000000</td>\n",
       "      <td>1200</td>\n",
       "      <td>1199</td>\n",
       "    </tr>\n",
       "    <tr>\n",
       "      <th>unique</th>\n",
       "      <td>NaN</td>\n",
       "      <td>1200</td>\n",
       "      <td>NaN</td>\n",
       "      <td>NaN</td>\n",
       "      <td>NaN</td>\n",
       "      <td>NaN</td>\n",
       "      <td>2</td>\n",
       "      <td>2</td>\n",
       "    </tr>\n",
       "    <tr>\n",
       "      <th>top</th>\n",
       "      <td>NaN</td>\n",
       "      <td>MQ1451211102</td>\n",
       "      <td>NaN</td>\n",
       "      <td>NaN</td>\n",
       "      <td>NaN</td>\n",
       "      <td>NaN</td>\n",
       "      <td>Male</td>\n",
       "      <td>pobre</td>\n",
       "    </tr>\n",
       "    <tr>\n",
       "      <th>freq</th>\n",
       "      <td>NaN</td>\n",
       "      <td>1</td>\n",
       "      <td>NaN</td>\n",
       "      <td>NaN</td>\n",
       "      <td>NaN</td>\n",
       "      <td>NaN</td>\n",
       "      <td>943</td>\n",
       "      <td>996</td>\n",
       "    </tr>\n",
       "    <tr>\n",
       "      <th>mean</th>\n",
       "      <td>5.951112e+06</td>\n",
       "      <td>NaN</td>\n",
       "      <td>0.810651</td>\n",
       "      <td>2242.840909</td>\n",
       "      <td>4.800833</td>\n",
       "      <td>49.124270</td>\n",
       "      <td>NaN</td>\n",
       "      <td>NaN</td>\n",
       "    </tr>\n",
       "    <tr>\n",
       "      <th>std</th>\n",
       "      <td>2.291954e+06</td>\n",
       "      <td>NaN</td>\n",
       "      <td>0.391951</td>\n",
       "      <td>2386.681593</td>\n",
       "      <td>2.236142</td>\n",
       "      <td>15.578989</td>\n",
       "      <td>NaN</td>\n",
       "      <td>NaN</td>\n",
       "    </tr>\n",
       "    <tr>\n",
       "      <th>min</th>\n",
       "      <td>1.001106e+06</td>\n",
       "      <td>NaN</td>\n",
       "      <td>0.000000</td>\n",
       "      <td>160.000000</td>\n",
       "      <td>1.000000</td>\n",
       "      <td>16.000000</td>\n",
       "      <td>NaN</td>\n",
       "      <td>NaN</td>\n",
       "    </tr>\n",
       "    <tr>\n",
       "      <th>25%</th>\n",
       "      <td>7.011004e+06</td>\n",
       "      <td>NaN</td>\n",
       "      <td>1.000000</td>\n",
       "      <td>1200.000000</td>\n",
       "      <td>3.000000</td>\n",
       "      <td>37.000000</td>\n",
       "      <td>NaN</td>\n",
       "      <td>NaN</td>\n",
       "    </tr>\n",
       "    <tr>\n",
       "      <th>50%</th>\n",
       "      <td>7.011019e+06</td>\n",
       "      <td>NaN</td>\n",
       "      <td>1.000000</td>\n",
       "      <td>1550.000000</td>\n",
       "      <td>5.000000</td>\n",
       "      <td>47.000000</td>\n",
       "      <td>NaN</td>\n",
       "      <td>NaN</td>\n",
       "    </tr>\n",
       "    <tr>\n",
       "      <th>75%</th>\n",
       "      <td>7.015003e+06</td>\n",
       "      <td>NaN</td>\n",
       "      <td>1.000000</td>\n",
       "      <td>2800.000000</td>\n",
       "      <td>6.000000</td>\n",
       "      <td>60.000000</td>\n",
       "      <td>NaN</td>\n",
       "      <td>NaN</td>\n",
       "    </tr>\n",
       "    <tr>\n",
       "      <th>max</th>\n",
       "      <td>7.015038e+06</td>\n",
       "      <td>NaN</td>\n",
       "      <td>1.000000</td>\n",
       "      <td>27000.000000</td>\n",
       "      <td>16.000000</td>\n",
       "      <td>96.000000</td>\n",
       "      <td>NaN</td>\n",
       "      <td>NaN</td>\n",
       "    </tr>\n",
       "  </tbody>\n",
       "</table>\n",
       "</div>"
      ],
      "text/plain": [
       "              villid         hogid         D_HH     IncomeLab      famsize  \\\n",
       "count   1.200000e+03          1200  1183.000000    176.000000  1200.000000   \n",
       "unique           NaN          1200          NaN           NaN          NaN   \n",
       "top              NaN  MQ1451211102          NaN           NaN          NaN   \n",
       "freq             NaN             1          NaN           NaN          NaN   \n",
       "mean    5.951112e+06           NaN     0.810651   2242.840909     4.800833   \n",
       "std     2.291954e+06           NaN     0.391951   2386.681593     2.236142   \n",
       "min     1.001106e+06           NaN     0.000000    160.000000     1.000000   \n",
       "25%     7.011004e+06           NaN     1.000000   1200.000000     3.000000   \n",
       "50%     7.011019e+06           NaN     1.000000   1550.000000     5.000000   \n",
       "75%     7.015003e+06           NaN     1.000000   2800.000000     6.000000   \n",
       "max     7.015038e+06           NaN     1.000000  27000.000000    16.000000   \n",
       "\n",
       "            agehead sexhead pov_HH  \n",
       "count   1199.000000    1200   1199  \n",
       "unique          NaN       2      2  \n",
       "top             NaN    Male  pobre  \n",
       "freq            NaN     943    996  \n",
       "mean      49.124270     NaN    NaN  \n",
       "std       15.578989     NaN    NaN  \n",
       "min       16.000000     NaN    NaN  \n",
       "25%       37.000000     NaN    NaN  \n",
       "50%       47.000000     NaN    NaN  \n",
       "75%       60.000000     NaN    NaN  \n",
       "max       96.000000     NaN    NaN  "
      ]
     },
     "execution_count": 6,
     "metadata": {},
     "output_type": "execute_result"
    }
   ],
   "source": [
    "MyFirstData.describe(include='all')"
   ]
  },
  {
   "cell_type": "code",
   "execution_count": 7,
   "metadata": {},
   "outputs": [
    {
     "data": {
      "text/plain": [
       "Index(['villid', 'hogid', 'D_HH', 'IncomeLab', 'famsize', 'agehead', 'sexhead',\n",
       "       'pov_HH'],\n",
       "      dtype='object')"
      ]
     },
     "execution_count": 7,
     "metadata": {},
     "output_type": "execute_result"
    }
   ],
   "source": [
    "MyFirstData.columns"
   ]
  },
  {
   "cell_type": "code",
   "execution_count": 8,
   "metadata": {},
   "outputs": [
    {
     "data": {
      "text/plain": [
       "(1200, 8)"
      ]
     },
     "execution_count": 8,
     "metadata": {},
     "output_type": "execute_result"
    }
   ],
   "source": [
    "MyFirstData.shape\n"
   ]
  },
  {
   "cell_type": "code",
   "execution_count": 9,
   "metadata": {},
   "outputs": [
    {
     "data": {
      "text/html": [
       "<div>\n",
       "<style scoped>\n",
       "    .dataframe tbody tr th:only-of-type {\n",
       "        vertical-align: middle;\n",
       "    }\n",
       "\n",
       "    .dataframe tbody tr th {\n",
       "        vertical-align: top;\n",
       "    }\n",
       "\n",
       "    .dataframe thead th {\n",
       "        text-align: right;\n",
       "    }\n",
       "</style>\n",
       "<table border=\"1\" class=\"dataframe\">\n",
       "  <thead>\n",
       "    <tr style=\"text-align: right;\">\n",
       "      <th></th>\n",
       "      <th>villid</th>\n",
       "      <th>hogid</th>\n",
       "      <th>D_HH</th>\n",
       "      <th>IncomeLab</th>\n",
       "      <th>famsize</th>\n",
       "      <th>agehead</th>\n",
       "      <th>sexhead</th>\n",
       "      <th>pov_HH</th>\n",
       "    </tr>\n",
       "  </thead>\n",
       "  <tbody>\n",
       "    <tr>\n",
       "      <th>0</th>\n",
       "      <td>1001106</td>\n",
       "      <td>0101103050.0539</td>\n",
       "      <td>1.0</td>\n",
       "      <td>NaN</td>\n",
       "      <td>6</td>\n",
       "      <td>29.0</td>\n",
       "      <td>Female</td>\n",
       "      <td>pobre</td>\n",
       "    </tr>\n",
       "    <tr>\n",
       "      <th>1</th>\n",
       "      <td>1001106</td>\n",
       "      <td>0101103052.0540</td>\n",
       "      <td>1.0</td>\n",
       "      <td>NaN</td>\n",
       "      <td>6</td>\n",
       "      <td>43.0</td>\n",
       "      <td>Male</td>\n",
       "      <td>no pobre</td>\n",
       "    </tr>\n",
       "    <tr>\n",
       "      <th>2</th>\n",
       "      <td>1001106</td>\n",
       "      <td>0101103054.0541</td>\n",
       "      <td>1.0</td>\n",
       "      <td>NaN</td>\n",
       "      <td>6</td>\n",
       "      <td>43.0</td>\n",
       "      <td>Male</td>\n",
       "      <td>no pobre</td>\n",
       "    </tr>\n",
       "    <tr>\n",
       "      <th>3</th>\n",
       "      <td>1001106</td>\n",
       "      <td>0101103056.0542</td>\n",
       "      <td>1.0</td>\n",
       "      <td>3200.0</td>\n",
       "      <td>5</td>\n",
       "      <td>25.0</td>\n",
       "      <td>Female</td>\n",
       "      <td>pobre</td>\n",
       "    </tr>\n",
       "    <tr>\n",
       "      <th>4</th>\n",
       "      <td>1001106</td>\n",
       "      <td>0101103058.0543</td>\n",
       "      <td>1.0</td>\n",
       "      <td>NaN</td>\n",
       "      <td>5</td>\n",
       "      <td>40.0</td>\n",
       "      <td>Male</td>\n",
       "      <td>no pobre</td>\n",
       "    </tr>\n",
       "  </tbody>\n",
       "</table>\n",
       "</div>"
      ],
      "text/plain": [
       "    villid            hogid  D_HH  IncomeLab  famsize  agehead sexhead  \\\n",
       "0  1001106  0101103050.0539   1.0        NaN        6     29.0  Female   \n",
       "1  1001106  0101103052.0540   1.0        NaN        6     43.0    Male   \n",
       "2  1001106  0101103054.0541   1.0        NaN        6     43.0    Male   \n",
       "3  1001106  0101103056.0542   1.0     3200.0        5     25.0  Female   \n",
       "4  1001106  0101103058.0543   1.0        NaN        5     40.0    Male   \n",
       "\n",
       "     pov_HH  \n",
       "0     pobre  \n",
       "1  no pobre  \n",
       "2  no pobre  \n",
       "3     pobre  \n",
       "4  no pobre  "
      ]
     },
     "execution_count": 9,
     "metadata": {},
     "output_type": "execute_result"
    }
   ],
   "source": [
    "MyFirstData.head(5)"
   ]
  },
  {
   "cell_type": "code",
   "execution_count": 10,
   "metadata": {},
   "outputs": [
    {
     "data": {
      "text/plain": [
       "Male      943\n",
       "Female    257\n",
       "Name: sexhead, dtype: int64"
      ]
     },
     "execution_count": 10,
     "metadata": {},
     "output_type": "execute_result"
    }
   ],
   "source": [
    "MyFirstData['sexhead'].value_counts(\n",
    ")"
   ]
  },
  {
   "cell_type": "code",
   "execution_count": 11,
   "metadata": {},
   "outputs": [
    {
     "data": {
      "text/plain": [
       "1    943\n",
       "0    257\n",
       "Name: sexhead_male, dtype: int64"
      ]
     },
     "execution_count": 11,
     "metadata": {},
     "output_type": "execute_result"
    }
   ],
   "source": [
    "MyFirstData['sexhead_male'] = MyFirstData['sexhead'].map({'Male':1, 'Female':0})\n",
    "MyFirstData['pov_HH_pobre'] = MyFirstData['pov_HH'].map({'pobre':1, 'no pobre':0})\n",
    "\n",
    "MyFirstData['sexhead_male'].value_counts()"
   ]
  },
  {
   "cell_type": "code",
   "execution_count": null,
   "metadata": {},
   "outputs": [],
   "source": []
  }
 ],
 "metadata": {
  "kernelspec": {
   "display_name": "Python 3",
   "language": "python",
   "name": "python3"
  },
  "language_info": {
   "codemirror_mode": {
    "name": "ipython",
    "version": 3
   },
   "file_extension": ".py",
   "mimetype": "text/x-python",
   "name": "python",
   "nbconvert_exporter": "python",
   "pygments_lexer": "ipython3",
   "version": "3.8.8"
  }
 },
 "nbformat": 4,
 "nbformat_minor": 4
}
