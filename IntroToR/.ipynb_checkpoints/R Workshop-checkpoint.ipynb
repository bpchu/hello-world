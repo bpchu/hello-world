{
 "cells": [
  {
   "cell_type": "markdown",
   "metadata": {},
   "source": [
    "# R Coding Workshop \n",
    "4/15/2021"
   ]
  },
  {
   "cell_type": "code",
   "execution_count": null,
   "metadata": {},
   "outputs": [],
   "source": []
  },
  {
   "cell_type": "markdown",
   "metadata": {},
   "source": [
    "## Overview\n",
    "\n",
    "Graduate Student Instructor: Kayleigh Barnes\n",
    "\n",
    "Email: kayleighnb@berkeley.edu\n",
    "\n",
    "### Goals for today\n",
    "This session is intended to guide you through the practical implementation of basic analytic techniques in R in Jupyter notebooks. R is an open-source statistical computing software used to analyze data. A Jupyter Notebook is an open-source web application that allows you to create and share documents that contain live code, equations, visualizations and narrative text. This workshop will be focused on interactive demonstration in R, but also include time for additional questions and guidance in working through the sample code. We will cover some fundamental coding techniques that will help you in Econ 140, basic data science classes, or research assistant positions. This workshop is for *beginners* that have little or no coding experience.\n",
    "\n",
    "\n",
    "\n",
    "### Important notes \n",
    "- One attendee from today's workshop will be randomly selected to win a 20 dollar gift card to Amazon \n",
    "- Attendance to this workshop comes with free access to datacamp through July. Datacamp offers online courses in both R and Python so that you can continue learning after today's workshop \n",
    "- Link to join Berkeley Econ's datacamp group with @berkeley.edu ID: [here](https://www.datacamp.com/groups/shared_links/9cecd27b5daab26dc69f7d4a48b3c2ae5e20ff9ed77e3e239fa2e4510a4848d3) (make sure you're signed out of datacamp before clicking this - otherwise the sign-up gets screwed and you'll be asked to pay after the first chapter of any course)\n",
    "\n",
    "## Jupyter and R Basics\n",
    "- To create a new notebook, click the \"New\" button and select R\n",
    "- Write R script by selecting the option \"Code\" from the dropdown list, or write text by selecting \"Markdown\"\n",
    "- Select \"Insert\" to add a block of text or code\n",
    "- Run code by highlighting and selecting \"Run\"\n",
    "- Use the # symbol to add comments to the script, or to add headlines to text selections\n",
    "- To clear your coding output, select Cell=>All Output=>Clear "
   ]
  },
  {
   "cell_type": "code",
   "execution_count": 4,
   "metadata": {},
   "outputs": [],
   "source": [
    "  # Clear the workspace, this removes all data and numbers you have stored or saved in R\n",
    "  rm(list = ls())\n",
    "\n",
    "  # The help function, using ? or help() before a command will bring up information on what the command does\n",
    "  ?setwd\n",
    "  help(setwd)"
   ]
  },
  {
   "cell_type": "code",
   "execution_count": 9,
   "metadata": {},
   "outputs": [
    {
     "data": {
      "text/html": [
       "'/Users/bryan/Desktop/CodingWkshp'"
      ],
      "text/latex": [
       "'/Users/bryan/Desktop/CodingWkshp'"
      ],
      "text/markdown": [
       "'/Users/bryan/Desktop/CodingWkshp'"
      ],
      "text/plain": [
       "[1] \"/Users/bryan/Desktop/CodingWkshp\""
      ]
     },
     "metadata": {},
     "output_type": "display_data"
    }
   ],
   "source": [
    "#The working directory is the location that R will look for data in\n",
    "    # this is the same as telling your computer to look in a documents folder when uploading soemthing\n",
    "getwd()"
   ]
  },
  {
   "cell_type": "markdown",
   "metadata": {},
   "source": [
    "User written open-source packages are needed for specific functionality in R (e.g. nice graphics). However, we need to manually install these packages (once) and load them at the beginning of every script. Packages have been pre-installed in Jupyter notebooks.  If you are wondering why a command you've used before is no longer working, it may be because you haven't loaded the package."
   ]
  },
  {
   "cell_type": "code",
   "execution_count": 14,
   "metadata": {},
   "outputs": [
    {
     "name": "stderr",
     "output_type": "stream",
     "text": [
      "also installing the dependencies ‘isoband’, ‘rlang’\n",
      "\n",
      "Warning message in install.packages(\"ggplot2\", repos = \"http://cran.us.r-project.org\"):\n",
      "“installation of package ‘isoband’ had non-zero exit status”Warning message in install.packages(\"ggplot2\", repos = \"http://cran.us.r-project.org\"):\n",
      "“installation of package ‘rlang’ had non-zero exit status”Warning message in install.packages(\"ggplot2\", repos = \"http://cran.us.r-project.org\"):\n",
      "“installation of package ‘ggplot2’ had non-zero exit status”Updating HTML index of packages in '.Library'\n",
      "Making 'packages.html' ... done\n"
     ]
    },
    {
     "ename": "ERROR",
     "evalue": "Error in library(ggplot2): there is no package called ‘ggplot2’\n",
     "output_type": "error",
     "traceback": [
      "Error in library(ggplot2): there is no package called ‘ggplot2’\nTraceback:\n",
      "1. library(ggplot2)"
     ]
    }
   ],
   "source": [
    "  #Install packages\n",
    "  #install.packages('ggplot2', repos='http://cran.us.r-project.org')\n",
    "install.packages('ggplot2')\n",
    "  \n",
    "  # Load required packages\n",
    "  library(ggplot2)"
   ]
  },
  {
   "cell_type": "code",
   "execution_count": null,
   "metadata": {},
   "outputs": [],
   "source": []
  },
  {
   "cell_type": "markdown",
   "metadata": {},
   "source": [
    "## Loading in data and summary statistics"
   ]
  },
  {
   "cell_type": "markdown",
   "metadata": {},
   "source": [
    "Now let's load in the data set. Make sure you have uploaded the data to Jupyter before running the next line of code. We are going to use data on a set of households in Mexico in the 1990's. The data includes a village ID, a household ID, and demogrpahic variables like income, household size, age and gender of the head of household and a poverty indicator. "
   ]
  },
  {
   "cell_type": "code",
   "execution_count": 15,
   "metadata": {},
   "outputs": [],
   "source": [
    "# Reading data into R from a CSV file\n",
    "#  ?read.table # delete the # at the beginning of this line to view the help entry for the \"read\" command\n",
    "  MyFirstData <- read.csv('MyFirstData.csv', header = TRUE)"
   ]
  },
  {
   "cell_type": "markdown",
   "metadata": {},
   "source": [
    "Notice that there is no ouput from the code that reads in the data. Unlike excel, R stores the data in the background and we need to use specific comands to interact with it. Once it's read in, we can use several commands to describe the data"
   ]
  },
  {
   "cell_type": "code",
   "execution_count": 16,
   "metadata": {},
   "outputs": [
    {
     "name": "stdout",
     "output_type": "stream",
     "text": [
      "'data.frame':\t1200 obs. of  8 variables:\n",
      " $ villid   : int  1001106 1001106 1001106 1001106 1001106 1001106 1001106 1001106 1001106 1001106 ...\n",
      " $ hogid    : Factor w/ 1200 levels \"0101103002.0639\",..: 10 11 12 13 14 15 16 17 18 19 ...\n",
      " $ D_HH     : int  1 1 1 1 1 1 1 1 1 1 ...\n",
      " $ IncomeLab: int  NA NA NA 3200 NA 4320 4800 NA NA 3200 ...\n",
      " $ famsize  : int  6 6 6 5 5 5 5 6 6 3 ...\n",
      " $ agehead  : int  29 43 43 25 40 40 39 45 42 22 ...\n",
      " $ sexhead  : Factor w/ 2 levels \"Female\",\"Male\": 1 2 2 1 2 2 2 1 2 2 ...\n",
      " $ pov_HH   : Factor w/ 2 levels \"no pobre\",\"pobre\": 2 1 1 2 1 1 1 2 1 2 ...\n"
     ]
    }
   ],
   "source": [
    "# Structure of the Data\n",
    "  str(MyFirstData)"
   ]
  },
  {
   "cell_type": "code",
   "execution_count": 17,
   "metadata": {},
   "outputs": [
    {
     "data": {
      "text/plain": [
       "     villid                    hogid           D_HH          IncomeLab    \n",
       " Min.   :1001106   0101103002.0639:   1   Min.   :0.0000   Min.   :  160  \n",
       " 1st Qu.:7011004   0101103004.0640:   1   1st Qu.:1.0000   1st Qu.: 1200  \n",
       " Median :7011019   0101103006.0641:   1   Median :1.0000   Median : 1550  \n",
       " Mean   :5951112   0101103008.0642:   1   Mean   :0.8107   Mean   : 2243  \n",
       " 3rd Qu.:7015003   0101103012.0644:   1   3rd Qu.:1.0000   3rd Qu.: 2800  \n",
       " Max.   :7015038   0101103014.0645:   1   Max.   :1.0000   Max.   :27000  \n",
       "                   (Other)        :1194   NA's   :17       NA's   :1024   \n",
       "    famsize          agehead        sexhead         pov_HH   \n",
       " Min.   : 1.000   Min.   :16.00   Female:257   no pobre:203  \n",
       " 1st Qu.: 3.000   1st Qu.:37.00   Male  :943   pobre   :996  \n",
       " Median : 5.000   Median :47.00                NA's    :  1  \n",
       " Mean   : 4.801   Mean   :49.12                              \n",
       " 3rd Qu.: 6.000   3rd Qu.:60.00                              \n",
       " Max.   :16.000   Max.   :96.00                              \n",
       "                  NA's   :1                                  "
      ]
     },
     "metadata": {},
     "output_type": "display_data"
    }
   ],
   "source": [
    "  # Summary of the Data\n",
    "  summary(MyFirstData)"
   ]
  },
  {
   "cell_type": "code",
   "execution_count": 18,
   "metadata": {},
   "outputs": [
    {
     "data": {
      "text/html": [
       "<style>\n",
       ".list-inline {list-style: none; margin:0; padding: 0}\n",
       ".list-inline>li {display: inline-block}\n",
       ".list-inline>li:not(:last-child)::after {content: \"\\00b7\"; padding: 0 .5ex}\n",
       "</style>\n",
       "<ol class=list-inline><li>'villid'</li><li>'hogid'</li><li>'D_HH'</li><li>'IncomeLab'</li><li>'famsize'</li><li>'agehead'</li><li>'sexhead'</li><li>'pov_HH'</li></ol>\n"
      ],
      "text/latex": [
       "\\begin{enumerate*}\n",
       "\\item 'villid'\n",
       "\\item 'hogid'\n",
       "\\item 'D\\_HH'\n",
       "\\item 'IncomeLab'\n",
       "\\item 'famsize'\n",
       "\\item 'agehead'\n",
       "\\item 'sexhead'\n",
       "\\item 'pov\\_HH'\n",
       "\\end{enumerate*}\n"
      ],
      "text/markdown": [
       "1. 'villid'\n",
       "2. 'hogid'\n",
       "3. 'D_HH'\n",
       "4. 'IncomeLab'\n",
       "5. 'famsize'\n",
       "6. 'agehead'\n",
       "7. 'sexhead'\n",
       "8. 'pov_HH'\n",
       "\n",
       "\n"
      ],
      "text/plain": [
       "[1] \"villid\"    \"hogid\"     \"D_HH\"      \"IncomeLab\" \"famsize\"   \"agehead\"  \n",
       "[7] \"sexhead\"   \"pov_HH\"   "
      ]
     },
     "metadata": {},
     "output_type": "display_data"
    }
   ],
   "source": [
    "  # Variable Names\n",
    "  colnames(MyFirstData)"
   ]
  },
  {
   "cell_type": "code",
   "execution_count": 19,
   "metadata": {},
   "outputs": [
    {
     "data": {
      "text/html": [
       "1200"
      ],
      "text/latex": [
       "1200"
      ],
      "text/markdown": [
       "1200"
      ],
      "text/plain": [
       "[1] 1200"
      ]
     },
     "metadata": {},
     "output_type": "display_data"
    }
   ],
   "source": [
    "  #Number of Observations\n",
    "  nrow(MyFirstData)"
   ]
  },
  {
   "cell_type": "code",
   "execution_count": 18,
   "metadata": {},
   "outputs": [
    {
     "data": {
      "text/html": [
       "<table>\n",
       "<thead><tr><th scope=col>villid</th><th scope=col>hogid</th><th scope=col>D_HH</th><th scope=col>IncomeLab</th><th scope=col>famsize</th><th scope=col>agehead</th><th scope=col>sexhead</th><th scope=col>pov_HH</th></tr></thead>\n",
       "<tbody>\n",
       "\t<tr><td>1001106        </td><td>0101103050.0539</td><td>1              </td><td>  NA           </td><td>6              </td><td>29             </td><td>Female         </td><td>pobre          </td></tr>\n",
       "\t<tr><td>1001106        </td><td>0101103052.0540</td><td>1              </td><td>  NA           </td><td>6              </td><td>43             </td><td>Male           </td><td>no pobre       </td></tr>\n",
       "\t<tr><td>1001106        </td><td>0101103054.0541</td><td>1              </td><td>  NA           </td><td>6              </td><td>43             </td><td>Male           </td><td>no pobre       </td></tr>\n",
       "\t<tr><td>1001106        </td><td>0101103056.0542</td><td>1              </td><td>3200           </td><td>5              </td><td>25             </td><td>Female         </td><td>pobre          </td></tr>\n",
       "\t<tr><td>1001106        </td><td>0101103058.0543</td><td>1              </td><td>  NA           </td><td>5              </td><td>40             </td><td>Male           </td><td>no pobre       </td></tr>\n",
       "\t<tr><td>1001106        </td><td>0101103060.0544</td><td>1              </td><td>4320           </td><td>5              </td><td>40             </td><td>Male           </td><td>no pobre       </td></tr>\n",
       "</tbody>\n",
       "</table>\n"
      ],
      "text/latex": [
       "\\begin{tabular}{r|llllllll}\n",
       " villid & hogid & D\\_HH & IncomeLab & famsize & agehead & sexhead & pov\\_HH\\\\\n",
       "\\hline\n",
       "\t 1001106         & 0101103050.0539 & 1               &   NA            & 6               & 29              & Female          & pobre          \\\\\n",
       "\t 1001106         & 0101103052.0540 & 1               &   NA            & 6               & 43              & Male            & no pobre       \\\\\n",
       "\t 1001106         & 0101103054.0541 & 1               &   NA            & 6               & 43              & Male            & no pobre       \\\\\n",
       "\t 1001106         & 0101103056.0542 & 1               & 3200            & 5               & 25              & Female          & pobre          \\\\\n",
       "\t 1001106         & 0101103058.0543 & 1               &   NA            & 5               & 40              & Male            & no pobre       \\\\\n",
       "\t 1001106         & 0101103060.0544 & 1               & 4320            & 5               & 40              & Male            & no pobre       \\\\\n",
       "\\end{tabular}\n"
      ],
      "text/markdown": [
       "\n",
       "| villid | hogid | D_HH | IncomeLab | famsize | agehead | sexhead | pov_HH |\n",
       "|---|---|---|---|---|---|---|---|\n",
       "| 1001106         | 0101103050.0539 | 1               |   NA            | 6               | 29              | Female          | pobre           |\n",
       "| 1001106         | 0101103052.0540 | 1               |   NA            | 6               | 43              | Male            | no pobre        |\n",
       "| 1001106         | 0101103054.0541 | 1               |   NA            | 6               | 43              | Male            | no pobre        |\n",
       "| 1001106         | 0101103056.0542 | 1               | 3200            | 5               | 25              | Female          | pobre           |\n",
       "| 1001106         | 0101103058.0543 | 1               |   NA            | 5               | 40              | Male            | no pobre        |\n",
       "| 1001106         | 0101103060.0544 | 1               | 4320            | 5               | 40              | Male            | no pobre        |\n",
       "\n"
      ],
      "text/plain": [
       "  villid  hogid           D_HH IncomeLab famsize agehead sexhead pov_HH  \n",
       "1 1001106 0101103050.0539 1      NA      6       29      Female  pobre   \n",
       "2 1001106 0101103052.0540 1      NA      6       43      Male    no pobre\n",
       "3 1001106 0101103054.0541 1      NA      6       43      Male    no pobre\n",
       "4 1001106 0101103056.0542 1    3200      5       25      Female  pobre   \n",
       "5 1001106 0101103058.0543 1      NA      5       40      Male    no pobre\n",
       "6 1001106 0101103060.0544 1    4320      5       40      Male    no pobre"
      ]
     },
     "metadata": {},
     "output_type": "display_data"
    }
   ],
   "source": [
    "  #Display first 6 rows of the data \n",
    "  head(MyFirstData)"
   ]
  },
  {
   "cell_type": "code",
   "execution_count": 19,
   "metadata": {},
   "outputs": [
    {
     "data": {
      "text/plain": [
       "\n",
       "Female   Male \n",
       "   257    943 "
      ]
     },
     "metadata": {},
     "output_type": "display_data"
    }
   ],
   "source": [
    "  #Tabulate a specific variable (to refer to a variable, use Dataset$VariableName)\n",
    "  table(MyFirstData$sexhead)"
   ]
  },
  {
   "cell_type": "markdown",
   "metadata": {},
   "source": [
    "## Basic Data Cleaning and Formatting\n",
    "\n",
    "### Category Variable\n",
    "\n",
    "Right now, we have two categorical variables: sexhead, which indicates the sex of the head of household and pov_HH, which indicates whether a household is below the poverty line. The data entries for these variables are text rather than numbers (we call these string variables in the data science world). Often when doing data analysis, it is easier to map categorical text variables to numbers, particularly 0 and 1. These variables that contain only 0's and 1's are called dummy variables. \n",
    "\n",
    "Now, suppose we want to create a poor_male variable, which will be defined as 1 if the household is categorized as poor (pov_HH = pobre) and the head of the household is male (sexhead is Male), and 0 otherwise."
   ]
  },
  {
   "cell_type": "code",
   "execution_count": 20,
   "metadata": {},
   "outputs": [
    {
     "data": {
      "text/plain": [
       "\n",
       "  0   1 \n",
       "413 786 "
      ]
     },
     "metadata": {},
     "output_type": "display_data"
    }
   ],
   "source": [
    "#Create one dummy variable based on T/F condition\n",
    "MyFirstData$poor_male <- ifelse(MyFirstData$pov_HH == 'pobre' & MyFirstData$sexhead == 'Male', 1, 0)\n",
    "  #tabulate the observations\n",
    "  table(MyFirstData$poor_male)"
   ]
  },
  {
   "cell_type": "markdown",
   "metadata": {},
   "source": [
    "### Numerical Variable\n",
    "We can use regular mathematical operations to create numerical variables from other variables."
   ]
  },
  {
   "cell_type": "code",
   "execution_count": null,
   "metadata": {},
   "outputs": [],
   "source": [
    "#Squaring an existing variable\n",
    "MyFirstData$agehead2 <-  MyFirstData$agehead^2\n",
    "summary(MyFirstData$agehead2)\n",
    "\n",
    "#Creating a constant\n",
    "MyFirstData$constant <- 1\n",
    "summary(MyFirstData$constant)"
   ]
  },
  {
   "cell_type": "markdown",
   "metadata": {},
   "source": [
    " ### New Datasets\n",
    " We may also want to create a new data that summarizes the old, or is a subset of the original dataset."
   ]
  },
  {
   "cell_type": "code",
   "execution_count": 21,
   "metadata": {},
   "outputs": [
    {
     "data": {
      "text/plain": [
       "     villid                    hogid          D_HH          IncomeLab    \n",
       " Min.   :1001106   0101103002.0639:  1   Min.   :0.0000   Min.   :  160  \n",
       " 1st Qu.:7011004   0101103004.0640:  1   1st Qu.:1.0000   1st Qu.: 1388  \n",
       " Median :7011019   0101103006.0641:  1   Median :1.0000   Median : 1600  \n",
       " Mean   :5954876   0101103008.0642:  1   Mean   :0.8254   Mean   : 2277  \n",
       " 3rd Qu.:7015003   0101103012.0644:  1   3rd Qu.:1.0000   3rd Qu.: 2850  \n",
       " Max.   :7015038   0101103018.0647:  1   Max.   :1.0000   Max.   :27000  \n",
       "                   (Other)        :937   NA's   :15       NA's   :807    \n",
       "    famsize          agehead        sexhead         pov_HH      poor_male     \n",
       " Min.   : 1.000   Min.   :18.00   Female:  0   no pobre:156   Min.   :0.0000  \n",
       " 1st Qu.: 4.000   1st Qu.:36.25   Male  :943   pobre   :786   1st Qu.:1.0000  \n",
       " Median : 5.000   Median :47.00                NA's    :  1   Median :1.0000  \n",
       " Mean   : 5.022   Mean   :49.05                               Mean   :0.8344  \n",
       " 3rd Qu.: 6.000   3rd Qu.:60.00                               3rd Qu.:1.0000  \n",
       " Max.   :16.000   Max.   :94.00                               Max.   :1.0000  \n",
       "                  NA's   :1                                   NA's   :1       "
      ]
     },
     "metadata": {},
     "output_type": "display_data"
    },
    {
     "data": {
      "text/html": [
       "24"
      ],
      "text/latex": [
       "24"
      ],
      "text/markdown": [
       "24"
      ],
      "text/plain": [
       "[1] 24"
      ]
     },
     "metadata": {},
     "output_type": "display_data"
    },
    {
     "data": {
      "text/plain": [
       "    Group.1            villid          IncomeLab      famsize     \n",
       " Min.   :1001106   Min.   :1001106   Min.   : NA   Min.   :4.504  \n",
       " 1st Qu.:1002032   1st Qu.:1002032   1st Qu.: NA   1st Qu.:4.721  \n",
       " Median :1008514   Median :1008514   Median : NA   Median :5.348  \n",
       " Mean   :2506884   Mean   :2506884   Mean   :NaN   Mean   :5.316  \n",
       " 3rd Qu.:2509100   3rd Qu.:2509100   3rd Qu.: NA   3rd Qu.:5.688  \n",
       " Max.   :7015038   Max.   :7015038   Max.   : NA   Max.   :6.800  \n",
       "                                     NA's   :24                   \n",
       "    agehead     \n",
       " Min.   :36.00  \n",
       " 1st Qu.:40.96  \n",
       " Median :45.58  \n",
       " Mean   :45.34  \n",
       " 3rd Qu.:50.25  \n",
       " Max.   :52.27  \n",
       " NA's   :1      "
      ]
     },
     "metadata": {},
     "output_type": "display_data"
    }
   ],
   "source": [
    "#Subset of only observations with male head of hh\n",
    "data_males<-MyFirstData[ which(MyFirstData$sexhead=='Male'),]\n",
    "summary(data_males)\n",
    "\n",
    "#First select variables to aggregate\n",
    "myvars <- c(\"villid\", \"IncomeLab\", \"famsize\", \"agehead\")\n",
    "meandata <- MyFirstData[myvars]\n",
    "\n",
    "#Collapse data to get average values by village.  Could also use \"sum\" as the function to get totals\n",
    "meandata<-aggregate(meandata, by = list(meandata$villid), FUN = mean)\n",
    "nrow(meandata)\n",
    "summary(meandata)\n",
    "\n"
   ]
  },
  {
   "cell_type": "markdown",
   "metadata": {},
   "source": [
    "## Making comparisons - T-Tests\n",
    "\n",
    "A main goal of working with data is to make inferences about the population we are interested in. Much of Econ 140 will be focused on methods to make these inferences: What is the relationship between two variables? Did an experiment have a significant treatment effect?\n",
    "\n",
    "If you have taken Stats 20, you are likely already familiar with a t-test. T-tests compare the difference in the means of a variable between two groups. The test statistic tells us whether the difference is *significant*, that is we can confidently say that the two groups are different. "
   ]
  },
  {
   "cell_type": "code",
   "execution_count": null,
   "metadata": {},
   "outputs": [],
   "source": [
    "#let's run a t-test comparing the average family size for households above and below the poverty line\n",
    "t.test(MyFirstData$famsize ~ MyFirstData$pov_HH, var.equal = TRUE)"
   ]
  },
  {
   "cell_type": "markdown",
   "metadata": {},
   "source": [
    "## Visualizing Data\n",
    "Make sure that the ggplot2 package is included at the top of the script.  Below, we show an example of a scatterplot using ggplot.  \"geom\" can be used to denote different types of graphs such as a line graph."
   ]
  },
  {
   "cell_type": "code",
   "execution_count": 23,
   "metadata": {},
   "outputs": [
    {
     "ename": "ERROR",
     "evalue": "Error in ggplot(MyFirstData, aes(x = agehead, y = famsize)): 没有\"ggplot\"这个函数\n",
     "output_type": "error",
     "traceback": [
      "Error in ggplot(MyFirstData, aes(x = agehead, y = famsize)): 没有\"ggplot\"这个函数\nTraceback:\n"
     ]
    }
   ],
   "source": [
    "  ggplot(MyFirstData, aes(x = agehead, y=famsize)) + geom_point()\n",
    "  ?geom_line  "
   ]
  },
  {
   "cell_type": "markdown",
   "metadata": {},
   "source": [
    "We can use a direct function or ggplot to create a histogram. Notice that changing the options in the function allows you to customize the graph. Use the help function to learn more about the options for each command."
   ]
  },
  {
   "cell_type": "code",
   "execution_count": 22,
   "metadata": {},
   "outputs": [
    {
     "data": {
      "image/png": "[encoded data removed]",
      "text/plain": [
       "Plot with title “Histogram of MyFirstData$agehead”"
      ]
     },
     "metadata": {},
     "output_type": "display_data"
    },
    {
     "ename": "ERROR",
     "evalue": "Error in ggplot(MyFirstData, aes(x = agehead)): 没有\"ggplot\"这个函数\n",
     "output_type": "error",
     "traceback": [
      "Error in ggplot(MyFirstData, aes(x = agehead)): 没有\"ggplot\"这个函数\nTraceback:\n"
     ]
    },
    {
     "data": {
      "image/png": "[encoded data removed]",
      "text/plain": [
       "Plot with title “Histogram of age”"
      ]
     },
     "metadata": {},
     "output_type": "display_data"
    }
   ],
   "source": [
    "# Base Graphics\n",
    "  hist(MyFirstData$agehead)\n",
    "  hist(MyFirstData$agehead, col = \"blue\", main = \"Histogram of age\")\n",
    "  # ggplot2\n",
    "  ggplot(MyFirstData, aes(x = agehead)) + geom_histogram(fill = \"blue\") + ggtitle(\"Histogram of age\")"
   ]
  },
  {
   "cell_type": "code",
   "execution_count": null,
   "metadata": {},
   "outputs": [],
   "source": []
  }
 ],
 "metadata": {
  "kernelspec": {
   "display_name": "R",
   "language": "R",
   "name": "ir"
  },
  "language_info": {
   "codemirror_mode": "r",
   "file_extension": ".r",
   "mimetype": "text/x-r-source",
   "name": "R",
   "pygments_lexer": "r",
   "version": "3.6.1"
  }
 },
 "nbformat": 4,
 "nbformat_minor": 2
}
