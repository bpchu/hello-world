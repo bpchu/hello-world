{
 "cells": [
  {
   "cell_type": "markdown",
   "metadata": {},
   "source": [
    "test text"
   ]
  },
  {
   "cell_type": "code",
   "execution_count": 60,
   "metadata": {},
   "outputs": [
    {
     "data": {
      "text/html": [
       "'/home/jovyan'"
      ],
      "text/latex": [
       "'/home/jovyan'"
      ],
      "text/markdown": [
       "'/home/jovyan'"
      ],
      "text/plain": [
       "[1] \"/home/jovyan\""
      ]
     },
     "metadata": {},
     "output_type": "display_data"
    }
   ],
   "source": [
    "rm(list=ls())\n",
    "getwd()"
   ]
  },
  {
   "cell_type": "code",
   "execution_count": 61,
   "metadata": {},
   "outputs": [],
   "source": [
    "#?setwd"
   ]
  },
  {
   "cell_type": "code",
   "execution_count": 62,
   "metadata": {
    "scrolled": true
   },
   "outputs": [
    {
     "name": "stderr",
     "output_type": "stream",
     "text": [
      "Installing package into ‘/opt/r’\n",
      "(as ‘lib’ is unspecified)\n",
      "\n"
     ]
    }
   ],
   "source": [
    "#comment here\n",
    "install.packages('ggplot2')\n",
    "library(ggplot2)"
   ]
  },
  {
   "cell_type": "code",
   "execution_count": 77,
   "metadata": {},
   "outputs": [],
   "source": [
    "MyFirstData <- read.csv('MyFirstData.csv',header=TRUE,\n",
    "                        stringsAsFactors = TRUE)\n",
    "\n",
    "#MyFirstData <- read.csv('MyFirstData.csv',header=TRUE)"
   ]
  },
  {
   "cell_type": "code",
   "execution_count": 78,
   "metadata": {},
   "outputs": [
    {
     "name": "stdout",
     "output_type": "stream",
     "text": [
      "'data.frame':\t1200 obs. of  8 variables:\n",
      " $ villid   : int  1001106 1001106 1001106 1001106 1001106 1001106 1001106 1001106 1001106 1001106 ...\n",
      " $ hogid    : Factor w/ 1200 levels \"0101103002.0639\",..: 10 11 12 13 14 15 16 17 18 19 ...\n",
      " $ D_HH     : int  1 1 1 1 1 1 1 1 1 1 ...\n",
      " $ IncomeLab: int  NA NA NA 3200 NA 4320 4800 NA NA 3200 ...\n",
      " $ famsize  : int  6 6 6 5 5 5 5 6 6 3 ...\n",
      " $ agehead  : int  29 43 43 25 40 40 39 45 42 22 ...\n",
      " $ sexhead  : Factor w/ 2 levels \"Female\",\"Male\": 1 2 2 1 2 2 2 1 2 2 ...\n",
      " $ pov_HH   : Factor w/ 2 levels \"no pobre\",\"pobre\": 2 1 1 2 1 1 1 2 1 2 ...\n"
     ]
    }
   ],
   "source": [
    "str(MyFirstData)"
   ]
  },
  {
   "cell_type": "code",
   "execution_count": 79,
   "metadata": {},
   "outputs": [
    {
     "data": {
      "text/plain": [
       "     villid                    hogid           D_HH          IncomeLab    \n",
       " Min.   :1001106   0101103002.0639:   1   Min.   :0.0000   Min.   :  160  \n",
       " 1st Qu.:7011004   0101103004.0640:   1   1st Qu.:1.0000   1st Qu.: 1200  \n",
       " Median :7011019   0101103006.0641:   1   Median :1.0000   Median : 1550  \n",
       " Mean   :5951112   0101103008.0642:   1   Mean   :0.8107   Mean   : 2243  \n",
       " 3rd Qu.:7015003   0101103012.0644:   1   3rd Qu.:1.0000   3rd Qu.: 2800  \n",
       " Max.   :7015038   0101103014.0645:   1   Max.   :1.0000   Max.   :27000  \n",
       "                   (Other)        :1194   NA's   :17       NA's   :1024   \n",
       "    famsize          agehead        sexhead         pov_HH   \n",
       " Min.   : 1.000   Min.   :16.00   Female:257   no pobre:203  \n",
       " 1st Qu.: 3.000   1st Qu.:37.00   Male  :943   pobre   :996  \n",
       " Median : 5.000   Median :47.00                NA's    :  1  \n",
       " Mean   : 4.801   Mean   :49.12                              \n",
       " 3rd Qu.: 6.000   3rd Qu.:60.00                              \n",
       " Max.   :16.000   Max.   :96.00                              \n",
       "                  NA's   :1                                  "
      ]
     },
     "metadata": {},
     "output_type": "display_data"
    }
   ],
   "source": [
    "summary(MyFirstData)"
   ]
  },
  {
   "cell_type": "code",
   "execution_count": 80,
   "metadata": {},
   "outputs": [
    {
     "data": {
      "text/html": [
       "<style>\n",
       ".list-inline {list-style: none; margin:0; padding: 0}\n",
       ".list-inline>li {display: inline-block}\n",
       ".list-inline>li:not(:last-child)::after {content: \"\\00b7\"; padding: 0 .5ex}\n",
       "</style>\n",
       "<ol class=list-inline><li>'villid'</li><li>'hogid'</li><li>'D_HH'</li><li>'IncomeLab'</li><li>'famsize'</li><li>'agehead'</li><li>'sexhead'</li><li>'pov_HH'</li></ol>\n"
      ],
      "text/latex": [
       "\\begin{enumerate*}\n",
       "\\item 'villid'\n",
       "\\item 'hogid'\n",
       "\\item 'D\\_HH'\n",
       "\\item 'IncomeLab'\n",
       "\\item 'famsize'\n",
       "\\item 'agehead'\n",
       "\\item 'sexhead'\n",
       "\\item 'pov\\_HH'\n",
       "\\end{enumerate*}\n"
      ],
      "text/markdown": [
       "1. 'villid'\n",
       "2. 'hogid'\n",
       "3. 'D_HH'\n",
       "4. 'IncomeLab'\n",
       "5. 'famsize'\n",
       "6. 'agehead'\n",
       "7. 'sexhead'\n",
       "8. 'pov_HH'\n",
       "\n",
       "\n"
      ],
      "text/plain": [
       "[1] \"villid\"    \"hogid\"     \"D_HH\"      \"IncomeLab\" \"famsize\"   \"agehead\"  \n",
       "[7] \"sexhead\"   \"pov_HH\"   "
      ]
     },
     "metadata": {},
     "output_type": "display_data"
    }
   ],
   "source": [
    "colnames(MyFirstData\n",
    ")"
   ]
  },
  {
   "cell_type": "code",
   "execution_count": 81,
   "metadata": {},
   "outputs": [
    {
     "data": {
      "text/html": [
       "1200"
      ],
      "text/latex": [
       "1200"
      ],
      "text/markdown": [
       "1200"
      ],
      "text/plain": [
       "[1] 1200"
      ]
     },
     "metadata": {},
     "output_type": "display_data"
    }
   ],
   "source": [
    "nrow(MyFirstData)"
   ]
  },
  {
   "cell_type": "code",
   "execution_count": 82,
   "metadata": {},
   "outputs": [
    {
     "data": {
      "text/html": [
       "<table class=\"dataframe\">\n",
       "<caption>A data.frame: 6 × 8</caption>\n",
       "<thead>\n",
       "\t<tr><th></th><th scope=col>villid</th><th scope=col>hogid</th><th scope=col>D_HH</th><th scope=col>IncomeLab</th><th scope=col>famsize</th><th scope=col>agehead</th><th scope=col>sexhead</th><th scope=col>pov_HH</th></tr>\n",
       "\t<tr><th></th><th scope=col>&lt;int&gt;</th><th scope=col>&lt;fct&gt;</th><th scope=col>&lt;int&gt;</th><th scope=col>&lt;int&gt;</th><th scope=col>&lt;int&gt;</th><th scope=col>&lt;int&gt;</th><th scope=col>&lt;fct&gt;</th><th scope=col>&lt;fct&gt;</th></tr>\n",
       "</thead>\n",
       "<tbody>\n",
       "\t<tr><th scope=row>1</th><td>1001106</td><td>0101103050.0539</td><td>1</td><td>  NA</td><td>6</td><td>29</td><td>Female</td><td>pobre   </td></tr>\n",
       "\t<tr><th scope=row>2</th><td>1001106</td><td>0101103052.0540</td><td>1</td><td>  NA</td><td>6</td><td>43</td><td>Male  </td><td>no pobre</td></tr>\n",
       "\t<tr><th scope=row>3</th><td>1001106</td><td>0101103054.0541</td><td>1</td><td>  NA</td><td>6</td><td>43</td><td>Male  </td><td>no pobre</td></tr>\n",
       "\t<tr><th scope=row>4</th><td>1001106</td><td>0101103056.0542</td><td>1</td><td>3200</td><td>5</td><td>25</td><td>Female</td><td>pobre   </td></tr>\n",
       "\t<tr><th scope=row>5</th><td>1001106</td><td>0101103058.0543</td><td>1</td><td>  NA</td><td>5</td><td>40</td><td>Male  </td><td>no pobre</td></tr>\n",
       "\t<tr><th scope=row>6</th><td>1001106</td><td>0101103060.0544</td><td>1</td><td>4320</td><td>5</td><td>40</td><td>Male  </td><td>no pobre</td></tr>\n",
       "</tbody>\n",
       "</table>\n"
      ],
      "text/latex": [
       "A data.frame: 6 × 8\n",
       "\\begin{tabular}{r|llllllll}\n",
       "  & villid & hogid & D\\_HH & IncomeLab & famsize & agehead & sexhead & pov\\_HH\\\\\n",
       "  & <int> & <fct> & <int> & <int> & <int> & <int> & <fct> & <fct>\\\\\n",
       "\\hline\n",
       "\t1 & 1001106 & 0101103050.0539 & 1 &   NA & 6 & 29 & Female & pobre   \\\\\n",
       "\t2 & 1001106 & 0101103052.0540 & 1 &   NA & 6 & 43 & Male   & no pobre\\\\\n",
       "\t3 & 1001106 & 0101103054.0541 & 1 &   NA & 6 & 43 & Male   & no pobre\\\\\n",
       "\t4 & 1001106 & 0101103056.0542 & 1 & 3200 & 5 & 25 & Female & pobre   \\\\\n",
       "\t5 & 1001106 & 0101103058.0543 & 1 &   NA & 5 & 40 & Male   & no pobre\\\\\n",
       "\t6 & 1001106 & 0101103060.0544 & 1 & 4320 & 5 & 40 & Male   & no pobre\\\\\n",
       "\\end{tabular}\n"
      ],
      "text/markdown": [
       "\n",
       "A data.frame: 6 × 8\n",
       "\n",
       "| <!--/--> | villid &lt;int&gt; | hogid &lt;fct&gt; | D_HH &lt;int&gt; | IncomeLab &lt;int&gt; | famsize &lt;int&gt; | agehead &lt;int&gt; | sexhead &lt;fct&gt; | pov_HH &lt;fct&gt; |\n",
       "|---|---|---|---|---|---|---|---|---|\n",
       "| 1 | 1001106 | 0101103050.0539 | 1 |   NA | 6 | 29 | Female | pobre    |\n",
       "| 2 | 1001106 | 0101103052.0540 | 1 |   NA | 6 | 43 | Male   | no pobre |\n",
       "| 3 | 1001106 | 0101103054.0541 | 1 |   NA | 6 | 43 | Male   | no pobre |\n",
       "| 4 | 1001106 | 0101103056.0542 | 1 | 3200 | 5 | 25 | Female | pobre    |\n",
       "| 5 | 1001106 | 0101103058.0543 | 1 |   NA | 5 | 40 | Male   | no pobre |\n",
       "| 6 | 1001106 | 0101103060.0544 | 1 | 4320 | 5 | 40 | Male   | no pobre |\n",
       "\n"
      ],
      "text/plain": [
       "  villid  hogid           D_HH IncomeLab famsize agehead sexhead pov_HH  \n",
       "1 1001106 0101103050.0539 1      NA      6       29      Female  pobre   \n",
       "2 1001106 0101103052.0540 1      NA      6       43      Male    no pobre\n",
       "3 1001106 0101103054.0541 1      NA      6       43      Male    no pobre\n",
       "4 1001106 0101103056.0542 1    3200      5       25      Female  pobre   \n",
       "5 1001106 0101103058.0543 1      NA      5       40      Male    no pobre\n",
       "6 1001106 0101103060.0544 1    4320      5       40      Male    no pobre"
      ]
     },
     "metadata": {},
     "output_type": "display_data"
    }
   ],
   "source": [
    "head(MyFirstData\n",
    "    )"
   ]
  },
  {
   "cell_type": "code",
   "execution_count": 83,
   "metadata": {},
   "outputs": [
    {
     "data": {
      "text/plain": [
       "\n",
       "Female   Male \n",
       "   257    943 "
      ]
     },
     "metadata": {},
     "output_type": "display_data"
    }
   ],
   "source": [
    "table(MyFirstData$sexhead\n",
    "     )"
   ]
  },
  {
   "cell_type": "code",
   "execution_count": 84,
   "metadata": {},
   "outputs": [
    {
     "data": {
      "text/plain": [
       "\n",
       "  0   1 \n",
       "413 786 "
      ]
     },
     "metadata": {},
     "output_type": "display_data"
    }
   ],
   "source": [
    "MyFirstData$poor_male <- ifelse(MyFirstData$pov_HH == 'pobre' \n",
    "                                & MyFirstData$sexhead == 'Male',1,0)\n",
    "\n",
    "table(MyFirstData$poor_male)"
   ]
  },
  {
   "cell_type": "code",
   "execution_count": 85,
   "metadata": {},
   "outputs": [
    {
     "data": {
      "text/plain": [
       "        \n",
       "         no pobre pobre\n",
       "  Female       47   210\n",
       "  Male        156   786"
      ]
     },
     "metadata": {},
     "output_type": "display_data"
    }
   ],
   "source": [
    "table(MyFirstData$sexhead, MyFirstData$pov_HH)"
   ]
  },
  {
   "cell_type": "code",
   "execution_count": 86,
   "metadata": {},
   "outputs": [
    {
     "data": {
      "text/plain": [
       "   Min. 1st Qu.  Median    Mean 3rd Qu.    Max.    NA's \n",
       "    256    1369    2209    2656    3600    9216       1 "
      ]
     },
     "metadata": {},
     "output_type": "display_data"
    }
   ],
   "source": [
    "MyFirstData$agehead2 <- MyFirstData$agehead^2\n",
    "summary(MyFirstData$agehead2)\n",
    "\n",
    "MyFirstData$constant <- 1"
   ]
  },
  {
   "cell_type": "code",
   "execution_count": 87,
   "metadata": {},
   "outputs": [
    {
     "data": {
      "text/plain": [
       "     villid                    hogid          D_HH          IncomeLab    \n",
       " Min.   :1001106   0101103002.0639:  1   Min.   :0.0000   Min.   :  160  \n",
       " 1st Qu.:7011004   0101103004.0640:  1   1st Qu.:1.0000   1st Qu.: 1388  \n",
       " Median :7011019   0101103006.0641:  1   Median :1.0000   Median : 1600  \n",
       " Mean   :5954876   0101103008.0642:  1   Mean   :0.8254   Mean   : 2277  \n",
       " 3rd Qu.:7015003   0101103012.0644:  1   3rd Qu.:1.0000   3rd Qu.: 2850  \n",
       " Max.   :7015038   0101103018.0647:  1   Max.   :1.0000   Max.   :27000  \n",
       "                   (Other)        :937   NA's   :15       NA's   :807    \n",
       "    famsize          agehead        sexhead         pov_HH      poor_male     \n",
       " Min.   : 1.000   Min.   :18.00   Female:  0   no pobre:156   Min.   :0.0000  \n",
       " 1st Qu.: 4.000   1st Qu.:36.25   Male  :943   pobre   :786   1st Qu.:1.0000  \n",
       " Median : 5.000   Median :47.00                NA's    :  1   Median :1.0000  \n",
       " Mean   : 5.022   Mean   :49.05                               Mean   :0.8344  \n",
       " 3rd Qu.: 6.000   3rd Qu.:60.00                               3rd Qu.:1.0000  \n",
       " Max.   :16.000   Max.   :94.00                               Max.   :1.0000  \n",
       "                  NA's   :1                                   NA's   :1       \n",
       "    agehead2       constant\n",
       " Min.   : 324   Min.   :1  \n",
       " 1st Qu.:1314   1st Qu.:1  \n",
       " Median :2209   Median :1  \n",
       " Mean   :2638   Mean   :1  \n",
       " 3rd Qu.:3600   3rd Qu.:1  \n",
       " Max.   :8836   Max.   :1  \n",
       " NA's   :1                 "
      ]
     },
     "metadata": {},
     "output_type": "display_data"
    },
    {
     "data": {
      "text/html": [
       "24"
      ],
      "text/latex": [
       "24"
      ],
      "text/markdown": [
       "24"
      ],
      "text/plain": [
       "[1] 24"
      ]
     },
     "metadata": {},
     "output_type": "display_data"
    },
    {
     "data": {
      "text/plain": [
       "    Group.1            villid          IncomeLab      famsize     \n",
       " Min.   :1001106   Min.   :1001106   Min.   : NA   Min.   :4.504  \n",
       " 1st Qu.:1002032   1st Qu.:1002032   1st Qu.: NA   1st Qu.:4.721  \n",
       " Median :1008514   Median :1008514   Median : NA   Median :5.348  \n",
       " Mean   :2506884   Mean   :2506884   Mean   :NaN   Mean   :5.316  \n",
       " 3rd Qu.:2509100   3rd Qu.:2509100   3rd Qu.: NA   3rd Qu.:5.688  \n",
       " Max.   :7015038   Max.   :7015038   Max.   : NA   Max.   :6.800  \n",
       "                                     NA's   :24                   \n",
       "    agehead     \n",
       " Min.   :36.00  \n",
       " 1st Qu.:40.96  \n",
       " Median :45.58  \n",
       " Mean   :45.34  \n",
       " 3rd Qu.:50.25  \n",
       " Max.   :52.27  \n",
       " NA's   :1      "
      ]
     },
     "metadata": {},
     "output_type": "display_data"
    }
   ],
   "source": [
    "data_males<-MyFirstData[ which(MyFirstData$sexhead == 'Male'),]\n",
    "summary(data_males)\n",
    "\n",
    "myvars <- c(\"villid\",\"IncomeLab\",\"famsize\",\"agehead\")\n",
    "meandata <-MyFirstData[myvars]\n",
    "\n",
    "meandata <- aggregate(meandata, by = list(meandata$villid), FUN = mean)\n",
    "nrow(meandata)\n",
    "summary(meandata)"
   ]
  },
  {
   "cell_type": "code",
   "execution_count": 89,
   "metadata": {},
   "outputs": [
    {
     "data": {
      "text/plain": [
       "\n",
       "\tTwo Sample t-test\n",
       "\n",
       "data:  MyFirstData$famsize by MyFirstData$pov_HH\n",
       "t = -5.2032, df = 1197, p-value = 2.303e-07\n",
       "alternative hypothesis: true difference in means is not equal to 0\n",
       "95 percent confidence interval:\n",
       " -1.221131 -0.552397\n",
       "sample estimates:\n",
       "mean in group no pobre    mean in group pobre \n",
       "              4.064039               4.950803 \n"
      ]
     },
     "metadata": {},
     "output_type": "display_data"
    }
   ],
   "source": [
    "t.test(MyFirstData$famsize ~ MyFirstData$pov_HH, var.equal = TRUE)"
   ]
  },
  {
   "cell_type": "code",
   "execution_count": 92,
   "metadata": {},
   "outputs": [
    {
     "name": "stderr",
     "output_type": "stream",
     "text": [
      "Warning message:\n",
      "“Removed 1 rows containing missing values (geom_point).”\n"
     ]
    },
    {
     "data": {
      "image/png": "[encoded data removed]",
      "text/plain": [
       "plot without title"
      ]
     },
     "metadata": {
      "image/png": {
       "height": 420,
       "width": 420
      }
     },
     "output_type": "display_data"
    }
   ],
   "source": [
    "ggplot(MyFirstData, aes(x = agehead, y=famsize)) + geom_point()\n"
   ]
  },
  {
   "cell_type": "code",
   "execution_count": 95,
   "metadata": {},
   "outputs": [
    {
     "name": "stderr",
     "output_type": "stream",
     "text": [
      "`stat_bin()` using `bins = 30`. Pick better value with `binwidth`.\n",
      "\n",
      "Warning message:\n",
      "“Removed 1 rows containing non-finite values (stat_bin).”\n"
     ]
    },
    {
     "data": {
      "image/png": "[encoded data removed]",
      "text/plain": [
       "plot without title"
      ]
     },
     "metadata": {
      "image/png": {
       "height": 420,
       "width": 420
      }
     },
     "output_type": "display_data"
    }
   ],
   "source": [
    "ggplot(MyFirstData, aes(x = agehead)) + geom_histogram(fill = \"blue\") + \n",
    "  ggtitle(\"HoA\")"
   ]
  },
  {
   "cell_type": "code",
   "execution_count": null,
   "metadata": {},
   "outputs": [],
   "source": []
  }
 ],
 "metadata": {
  "kernelspec": {
   "display_name": "R",
   "language": "R",
   "name": "ir"
  },
  "language_info": {
   "codemirror_mode": "r",
   "file_extension": ".r",
   "mimetype": "text/x-r-source",
   "name": "R",
   "pygments_lexer": "r",
   "version": "4.0.5"
  }
 },
 "nbformat": 4,
 "nbformat_minor": 4
}
